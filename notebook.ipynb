{
 "cells": [
  {
   "cell_type": "code",
   "execution_count": 7,
   "metadata": {},
   "outputs": [],
   "source": [
    "import json\n",
    "import pandas as pd\n",
    "import requests"
   ]
  },
  {
   "cell_type": "code",
   "execution_count": 8,
   "metadata": {},
   "outputs": [
    {
     "output_type": "execute_result",
     "data": {
      "text/plain": [
       "{'detail': [{'loc': ['query', 'query'],\n",
       "   'msg': 'field required',\n",
       "   'type': 'value_error.missing'}]}"
      ]
     },
     "metadata": {},
     "execution_count": 8
    }
   ],
   "source": [
    "API_URL = \"https://bdsn-api.mrcieu.ac.uk\"\n",
    "\n",
    "requests.get(f\"{API_URL}/search/\").json()"
   ]
  },
  {
   "cell_type": "code",
   "execution_count": 10,
   "metadata": {},
   "outputs": [
    {
     "output_type": "stream",
     "name": "stdout",
     "text": [
      "CPU times: user 26.4 ms, sys: 3.45 ms, total: 29.9 ms\nWall time: 447 ms\n"
     ]
    },
    {
     "output_type": "execute_result",
     "data": {
      "text/plain": [
       "                                           person_id  \\\n",
       "0  https://research-information.bris.ac.uk/en/per...   \n",
       "1  https://research-information.bris.ac.uk/en/per...   \n",
       "2  https://research-information.bris.ac.uk/en/per...   \n",
       "3  https://research-information.bris.ac.uk/en/per...   \n",
       "4  https://research-information.bris.ac.uk/en/per...   \n",
       "\n",
       "                       person_name  count  \\\n",
       "0  Professor Nicholas John Timpson      1   \n",
       "1               Dr Henry W J Reeve      3   \n",
       "2        Professor Trevor P Martin      3   \n",
       "3     Professor Christophe Andrieu      2   \n",
       "4          Professor Peter A Flach     29   \n",
       "\n",
       "                                                 org      wa  \\\n",
       "0  [Cancer, MRC Integrative Epidemiology Unit, Br...  15.126   \n",
       "1                            [School of Mathematics]  15.045   \n",
       "2  [Department of Engineering Mathematics, Intell...  14.946   \n",
       "3  [Statistics, School of Mathematics, Probabilit...  14.335   \n",
       "4  [Department of Computer Science, Intelligent S...  14.218   \n",
       "\n",
       "                                             weights  \\\n",
       "0                                             [9801]   \n",
       "1                                [10000, 8281, 4225]   \n",
       "2                                    [9604, 441, 49]   \n",
       "3                                       [9025, 2401]   \n",
       "4  [9216, 8836, 4624, 2704, 1225, 4, 8100, 1936, ...   \n",
       "\n",
       "                                              scores  \\\n",
       "0                                        [15.125717]   \n",
       "1                   [16.26653, 14.563262, 13.096104]   \n",
       "2                  [15.125717, 11.444262, 11.214855]   \n",
       "3                             [14.838778, 12.441542]   \n",
       "4  [15.049172, 14.78764, 13.115971, 12.514772, 11...   \n",
       "\n",
       "                                          m_sent_num  \\\n",
       "0                                                [9]   \n",
       "1                                          [0, 0, 1]   \n",
       "2                                          [2, 0, 0]   \n",
       "3                                             [1, 0]   \n",
       "4  [0, 16, 12, 14, 2, 7, 3, 0, 0, 3, 0, 0, 0, 0, ...   \n",
       "\n",
       "                                          q_sent_num  \\\n",
       "0                                                [0]   \n",
       "1                                          [0, 0, 0]   \n",
       "2                                          [0, 0, 0]   \n",
       "3                                             [0, 0]   \n",
       "4  [0, 0, 0, 0, 0, 0, 0, 0, 0, 0, 0, 0, 0, 0, 0, ...   \n",
       "\n",
       "                                         m_sent_text  \\\n",
       "0  [Project are varied including multi-modal, mac...   \n",
       "1  [Ensemble methods are a cornerstone of modern ...   \n",
       "2  [Machine learning (ML) based methods are the p...   \n",
       "3  [First, it introduces the Monte Carlo method w...   \n",
       "4  [This issue of the Machine Learning journal is...   \n",
       "\n",
       "                                         q_sent_text  \\\n",
       "0                                 [machine learning]   \n",
       "1  [machine learning, machine learning, machine l...   \n",
       "2  [machine learning, machine learning, machine l...   \n",
       "3               [machine learning, machine learning]   \n",
       "4  [machine learning, machine learning, machine l...   \n",
       "\n",
       "                                              output  \\\n",
       "0  [https://research-information.bris.ac.uk/en/pu...   \n",
       "1  [https://research-information.bris.ac.uk/en/pu...   \n",
       "2  [https://research-information.bris.ac.uk/en/pu...   \n",
       "3  [https://research-information.bris.ac.uk/en/pu...   \n",
       "4  [https://research-information.bris.ac.uk/en/pu...   \n",
       "\n",
       "                                               index  \\\n",
       "0                    [use_abstract_sentence_vectors]   \n",
       "1  [use_abstract_sentence_vectors, use_abstract_s...   \n",
       "2  [use_abstract_sentence_vectors, use_abstract_s...   \n",
       "3  [use_abstract_sentence_vectors, use_title_sent...   \n",
       "4  [use_abstract_sentence_vectors, use_abstract_s...   \n",
       "\n",
       "                                                year  \n",
       "0                                           [2020.0]  \n",
       "1                           [2018.0, 2019.0, 2020.0]  \n",
       "2                           [2014.0, 2014.0, 1994.0]  \n",
       "3                                   [2003.0, 2003.0]  \n",
       "4  [2001.0, 2001.0, 2001.0, 2001.0, 2001.0, 2001....  "
      ],
      "text/html": "<div>\n<style scoped>\n    .dataframe tbody tr th:only-of-type {\n        vertical-align: middle;\n    }\n\n    .dataframe tbody tr th {\n        vertical-align: top;\n    }\n\n    .dataframe thead th {\n        text-align: right;\n    }\n</style>\n<table border=\"1\" class=\"dataframe\">\n  <thead>\n    <tr style=\"text-align: right;\">\n      <th></th>\n      <th>person_id</th>\n      <th>person_name</th>\n      <th>count</th>\n      <th>org</th>\n      <th>wa</th>\n      <th>weights</th>\n      <th>scores</th>\n      <th>m_sent_num</th>\n      <th>q_sent_num</th>\n      <th>m_sent_text</th>\n      <th>q_sent_text</th>\n      <th>output</th>\n      <th>index</th>\n      <th>year</th>\n    </tr>\n  </thead>\n  <tbody>\n    <tr>\n      <th>0</th>\n      <td>https://research-information.bris.ac.uk/en/per...</td>\n      <td>Professor Nicholas John Timpson</td>\n      <td>1</td>\n      <td>[Cancer, MRC Integrative Epidemiology Unit, Br...</td>\n      <td>15.126</td>\n      <td>[9801]</td>\n      <td>[15.125717]</td>\n      <td>[9]</td>\n      <td>[0]</td>\n      <td>[Project are varied including multi-modal, mac...</td>\n      <td>[machine learning]</td>\n      <td>[https://research-information.bris.ac.uk/en/pu...</td>\n      <td>[use_abstract_sentence_vectors]</td>\n      <td>[2020.0]</td>\n    </tr>\n    <tr>\n      <th>1</th>\n      <td>https://research-information.bris.ac.uk/en/per...</td>\n      <td>Dr Henry W J Reeve</td>\n      <td>3</td>\n      <td>[School of Mathematics]</td>\n      <td>15.045</td>\n      <td>[10000, 8281, 4225]</td>\n      <td>[16.26653, 14.563262, 13.096104]</td>\n      <td>[0, 0, 1]</td>\n      <td>[0, 0, 0]</td>\n      <td>[Ensemble methods are a cornerstone of modern ...</td>\n      <td>[machine learning, machine learning, machine l...</td>\n      <td>[https://research-information.bris.ac.uk/en/pu...</td>\n      <td>[use_abstract_sentence_vectors, use_abstract_s...</td>\n      <td>[2018.0, 2019.0, 2020.0]</td>\n    </tr>\n    <tr>\n      <th>2</th>\n      <td>https://research-information.bris.ac.uk/en/per...</td>\n      <td>Professor Trevor P Martin</td>\n      <td>3</td>\n      <td>[Department of Engineering Mathematics, Intell...</td>\n      <td>14.946</td>\n      <td>[9604, 441, 49]</td>\n      <td>[15.125717, 11.444262, 11.214855]</td>\n      <td>[2, 0, 0]</td>\n      <td>[0, 0, 0]</td>\n      <td>[Machine learning (ML) based methods are the p...</td>\n      <td>[machine learning, machine learning, machine l...</td>\n      <td>[https://research-information.bris.ac.uk/en/pu...</td>\n      <td>[use_abstract_sentence_vectors, use_abstract_s...</td>\n      <td>[2014.0, 2014.0, 1994.0]</td>\n    </tr>\n    <tr>\n      <th>3</th>\n      <td>https://research-information.bris.ac.uk/en/per...</td>\n      <td>Professor Christophe Andrieu</td>\n      <td>2</td>\n      <td>[Statistics, School of Mathematics, Probabilit...</td>\n      <td>14.335</td>\n      <td>[9025, 2401]</td>\n      <td>[14.838778, 12.441542]</td>\n      <td>[1, 0]</td>\n      <td>[0, 0]</td>\n      <td>[First, it introduces the Monte Carlo method w...</td>\n      <td>[machine learning, machine learning]</td>\n      <td>[https://research-information.bris.ac.uk/en/pu...</td>\n      <td>[use_abstract_sentence_vectors, use_title_sent...</td>\n      <td>[2003.0, 2003.0]</td>\n    </tr>\n    <tr>\n      <th>4</th>\n      <td>https://research-information.bris.ac.uk/en/per...</td>\n      <td>Professor Peter A Flach</td>\n      <td>29</td>\n      <td>[Department of Computer Science, Intelligent S...</td>\n      <td>14.218</td>\n      <td>[9216, 8836, 4624, 2704, 1225, 4, 8100, 1936, ...</td>\n      <td>[15.049172, 14.78764, 13.115971, 12.514772, 11...</td>\n      <td>[0, 16, 12, 14, 2, 7, 3, 0, 0, 3, 0, 0, 0, 0, ...</td>\n      <td>[0, 0, 0, 0, 0, 0, 0, 0, 0, 0, 0, 0, 0, 0, 0, ...</td>\n      <td>[This issue of the Machine Learning journal is...</td>\n      <td>[machine learning, machine learning, machine l...</td>\n      <td>[https://research-information.bris.ac.uk/en/pu...</td>\n      <td>[use_abstract_sentence_vectors, use_abstract_s...</td>\n      <td>[2001.0, 2001.0, 2001.0, 2001.0, 2001.0, 2001....</td>\n    </tr>\n  </tbody>\n</table>\n</div>"
     },
     "metadata": {},
     "execution_count": 10
    }
   ],
   "source": [
    "%%time\n",
    "def get_mr(text):\n",
    "    endpoint = \"/search/\"\n",
    "    url = f\"{API_URL}{endpoint}\"\n",
    "    params = {\n",
    "        \"query\": text,\n",
    "        \"pval_threshold\": 1e-10,\n",
    "    }\n",
    "    r = requests.get(url, params=params)\n",
    "    df = (\n",
    "        pd.json_normalize(r.json()[\"res\"])\n",
    "    )\n",
    "    return df\n",
    "\n",
    "df = get_mr('machine learning')\n",
    "df.head()"
   ]
  },
  {
   "cell_type": "code",
   "execution_count": null,
   "metadata": {},
   "outputs": [],
   "source": []
  }
 ],
 "metadata": {
  "kernelspec": {
   "name": "python377jvsc74a57bd060d42feca8cc8e196dff0486ec98a36f5254ade9bea349b80069e14b37dd40e9",
   "display_name": "Python 3.7.7 64-bit ('epigraphdb-case-study': conda)"
  },
  "language_info": {
   "codemirror_mode": {
    "name": "ipython",
    "version": 3
   },
   "file_extension": ".py",
   "mimetype": "text/x-python",
   "name": "python",
   "nbconvert_exporter": "python",
   "pygments_lexer": "ipython3",
   "version": "3.7.7"
  }
 },
 "nbformat": 4,
 "nbformat_minor": 4
}